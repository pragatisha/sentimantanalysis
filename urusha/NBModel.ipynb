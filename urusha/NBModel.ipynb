{
 "cells": [
  {
   "cell_type": "code",
   "execution_count": 47,
   "metadata": {},
   "outputs": [],
   "source": [
    "import pandas as pd\n",
    "from sklearn.feature_extraction.text import CountVectorizer\n",
    "from sklearn.feature_extraction.text import TfidfTransformer\n",
    "from sklearn.naive_bayes import MultinomialNB\n",
    "from sklearn.preprocessing import LabelEncoder\n",
    "from sklearn.metrics import classification_report\n",
    "import numpy\n",
    "from sklearn.metrics import accuracy_score"
   ]
  },
  {
   "cell_type": "code",
   "execution_count": 48,
   "metadata": {},
   "outputs": [],
   "source": [
    "# import processed data set - reviews set\n",
    "df = pd.read_csv('processed-data.csv', usecols=['Sentiment', 'OriginalTweets']) \n",
    "# Dataframe of Review column value\n",
    "df_Reviews = df.OriginalTweets\n",
    "# Dataframe of Sentiment column value\n",
    "df_Sentiment = df.Sentiment"
   ]
  },
  {
   "cell_type": "code",
   "execution_count": 49,
   "metadata": {},
   "outputs": [],
   "source": [
    "# Splitting train and test data\n",
    "\n",
    "# Splitting review data set into test and train in 80:20 ratio\n",
    "Xtrain_set = df_Reviews.sample(frac=0.80, random_state=0)\n",
    "Xtest_set = df_Reviews.drop(Xtrain_set.index)\n",
    "\n",
    "# Splitting sentiments into test and train in same ratio\n",
    "Ytrain_set = df_Sentiment.sample(frac=0.80, random_state=0)\n",
    "Ytest_set = df_Sentiment.drop(Ytrain_set.index)\n",
    "\n",
    "# Converting test and train set into list\n",
    "lst_Xtrain_set = [str(x) for x in Xtrain_set.values]\n",
    "lst_Xtest_set = [str(x) for x in Xtest_set.values]\n",
    "\n",
    "lst_Ytrain_set = [str(x) for x in Ytrain_set.values]\n",
    "lst_Ytest_set = [str(x) for x in Ytest_set.values]"
   ]
  },
  {
   "cell_type": "code",
   "execution_count": 50,
   "metadata": {},
   "outputs": [
    {
     "data": {
      "text/plain": [
       "(19204, 32638)"
      ]
     },
     "execution_count": 50,
     "metadata": {},
     "output_type": "execute_result"
    }
   ],
   "source": [
    "# feature extraction # Convert a collection of text documents to a matrix of token counts # bag of words\n",
    "vectorizer = CountVectorizer()\n",
    "# Learn the vocabulary dictionary and return term-document matrix\n",
    "counts_train_vec = vectorizer.fit_transform(lst_Xtrain_set)\n",
    "# displays the number of rows (lines) and columns of number of features extracted\n",
    "counts_train_vec.shape"
   ]
  },
  {
   "cell_type": "code",
   "execution_count": 51,
   "metadata": {},
   "outputs": [
    {
     "data": {
      "text/plain": [
       "(19204, 32638)"
      ]
     },
     "execution_count": 51,
     "metadata": {},
     "output_type": "execute_result"
    }
   ],
   "source": [
    "# Transform a count matrix to a normalized tf or tf-idf representation\n",
    "tfidf_transformer = TfidfTransformer()\n",
    "# Fit to data, then transform it, the document matrix is given as parameter.\n",
    "X_train_tfidf = tfidf_transformer.fit_transform(counts_train_vec)\n",
    "# displays the number of rows (lines) and number of features extracted\n",
    "X_train_tfidf.shape"
   ]
  },
  {
   "cell_type": "code",
   "execution_count": 52,
   "metadata": {
    "scrolled": true
   },
   "outputs": [
    {
     "name": "stdout",
     "output_type": "stream",
     "text": [
      "['Negative' 'Neutral' 'Positive']\n"
     ]
    }
   ],
   "source": [
    "# Labelling classification categories to numbers , encode target labels with value between 0 and n_classes-1\n",
    "le = LabelEncoder()\n",
    "\n",
    "# Fit label encoder\n",
    "le.fit(Ytrain_set)\n",
    "\n",
    "# Display all classes in the set\n",
    "print(le.classes_)"
   ]
  },
  {
   "cell_type": "code",
   "execution_count": 53,
   "metadata": {},
   "outputs": [
    {
     "name": "stdout",
     "output_type": "stream",
     "text": [
      "[1 0 0 ... 0 1 2]\n",
      "[0 0 0 ... 2 2 2]\n"
     ]
    }
   ],
   "source": [
    "# Transform labels of train and test sets to normalized encoding.\n",
    "classes_in_int_train = le.transform(Ytrain_set)\n",
    "print(classes_in_int_train)\n",
    "\n",
    "classes_in_int_test = le.transform(Ytest_set)\n",
    "print(classes_in_int_test)"
   ]
  },
  {
   "cell_type": "code",
   "execution_count": 54,
   "metadata": {},
   "outputs": [
    {
     "data": {
      "text/plain": [
       "MultinomialNB(alpha=1.0, class_prior=None, fit_prior=True)"
      ]
     },
     "execution_count": 54,
     "metadata": {},
     "output_type": "execute_result"
    }
   ],
   "source": [
    "# Naive bayes classifier \n",
    "classifier = MultinomialNB()\n",
    "# Fit Naive Bayes classifier according to X, y - here X is the tf-idf representation and y is the encoded labels of classes\n",
    "classifier.fit(X_train_tfidf,classes_in_int_train) # Model is learning from input"
   ]
  },
  {
   "cell_type": "code",
   "execution_count": 55,
   "metadata": {},
   "outputs": [
    {
     "data": {
      "text/plain": [
       "(4801, 32638)"
      ]
     },
     "execution_count": 55,
     "metadata": {},
     "output_type": "execute_result"
    }
   ],
   "source": [
    "# Convert to vector and count features for test data\n",
    "c_test_vec = vectorizer.transform(lst_Xtest_set)\n",
    "# Output is number of lines and the number of features extracted \n",
    "c_test_vec.shape"
   ]
  },
  {
   "cell_type": "code",
   "execution_count": 56,
   "metadata": {},
   "outputs": [
    {
     "data": {
      "text/plain": [
       "(4801, 32638)"
      ]
     },
     "execution_count": 56,
     "metadata": {},
     "output_type": "execute_result"
    }
   ],
   "source": [
    "# Feature extraction using TF-idf for test data\n",
    "X_test_tfidf = tfidf_transformer.transform(c_test_vec)\n",
    "X_test_tfidf.shape"
   ]
  },
  {
   "cell_type": "code",
   "execution_count": 57,
   "metadata": {
    "scrolled": false
   },
   "outputs": [
    {
     "name": "stdout",
     "output_type": "stream",
     "text": [
      "[0 0 0 ... 2 2 2]\n",
      "The model has 66.84% accuracy.\n"
     ]
    }
   ],
   "source": [
    "# Testing the model, input the normalised tf-idf representation\n",
    "predict = classifier.predict (X_test_tfidf)\n",
    "print (predict)\n",
    "# Checking accuracy of the predicted values, input actual values and compare it with predicted value\n",
    "accuracy = str(round(accuracy_score(classes_in_int_test, predict)*100,2))\n",
    "print(\"The model has \" + accuracy + \"% accuracy.\")"
   ]
  },
  {
   "cell_type": "code",
   "execution_count": 58,
   "metadata": {
    "scrolled": true
   },
   "outputs": [
    {
     "name": "stdout",
     "output_type": "stream",
     "text": [
      "              precision    recall  f1-score   support\n",
      "\n",
      "           0       0.64      0.77      0.70      1633\n",
      "           1       0.76      0.52      0.61      1538\n",
      "           2       0.65      0.71      0.68      1630\n",
      "\n",
      "   micro avg       0.67      0.67      0.67      4801\n",
      "   macro avg       0.68      0.67      0.66      4801\n",
      "weighted avg       0.68      0.67      0.66      4801\n",
      "\n"
     ]
    }
   ],
   "source": [
    "# Build a text report showing the main classification metrics\n",
    "# Parameters are correct target values and, estimated targets as returned by the classifier model\n",
    "print (classification_report(classes_in_int_test, predict))"
   ]
  },
  {
   "cell_type": "code",
   "execution_count": 1,
   "metadata": {},
   "outputs": [],
   "source": [
    "# Get prediction for product reviews.\n",
    "def Get_reviewPrediction (input_str_list):\n",
    "    count_vector = vectorizer.transform(input_str_list)\n",
    "    vector_tfidf = tfidf_transformer.transform(count_vector)\n",
    "    prediction = classifier.predict(vector_tfidf)\n",
    "    print (prediction)\n",
    "    for i in range (len (input_str_list)):\n",
    "        if (prediction [i] == 0):\n",
    "            print (input_str_list [i] + \" -- NEGATIVE\" )\n",
    "            print \n",
    "        elif (prediction [i] == 1):\n",
    "            print (input_str_list [i] + \" -- NEUTRAL\")\n",
    "            print \n",
    "        elif(prediction [i] == 2):\n",
    "            print (input_str_list [i] + \" -- POSITIVE\")\n",
    "            print "
   ]
  },
  {
   "cell_type": "code",
   "execution_count": null,
   "metadata": {},
   "outputs": [],
   "source": [
    "sentence = raw_input(\"Enter sentence or list of sentences separated by commas: \").split('.')\n",
    "Get_reviewPrediction (sentence)"
   ]
  },
  {
   "cell_type": "code",
   "execution_count": null,
   "metadata": {},
   "outputs": [],
   "source": []
  },
  {
   "cell_type": "code",
   "execution_count": null,
   "metadata": {},
   "outputs": [],
   "source": [
    "\n"
   ]
  },
  {
   "cell_type": "code",
   "execution_count": null,
   "metadata": {},
   "outputs": [],
   "source": []
  }
 ],
 "metadata": {
  "kernelspec": {
   "display_name": "Python 2",
   "language": "python",
   "name": "python2"
  },
  "language_info": {
   "codemirror_mode": {
    "name": "ipython",
    "version": 2
   },
   "file_extension": ".py",
   "mimetype": "text/x-python",
   "name": "python",
   "nbconvert_exporter": "python",
   "pygments_lexer": "ipython2",
   "version": "2.7.16"
  }
 },
 "nbformat": 4,
 "nbformat_minor": 2
}
